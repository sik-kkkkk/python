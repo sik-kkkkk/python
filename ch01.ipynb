{
  "nbformat": 4,
  "nbformat_minor": 0,
  "metadata": {
    "colab": {
      "provenance": [],
      "authorship_tag": "ABX9TyPKvmTXxOKn4erdy/Z18+8b"
    },
    "kernelspec": {
      "name": "python3",
      "display_name": "Python 3"
    },
    "language_info": {
      "name": "python"
    }
  },
  "cells": [
    {
      "cell_type": "markdown",
      "source": [
        "# **CH1 파이썬 문법**"
      ],
      "metadata": {
        "id": "ZuLVWL8XiYG8"
      }
    },
    {
      "cell_type": "markdown",
      "source": [
        "## 자료형\n",
        "#### 숫자형\n",
        "* 정수 : 123, -20, 0  \n",
        "* 실수 : 123.45, -4321.5, 6.08e9  \n",
        "* 8진수 : 0o456, 0o123  \n",
        "* 16진수 : 0xFF, 0x0D0, 0x0A  "
      ],
      "metadata": {
        "id": "DaNDIHooixIi"
      }
    },
    {
      "cell_type": "markdown",
      "source": [
        "#### 변수\n",
        "* 문자 또는 밑줄로 시작(beta, _kim)\n",
        "* 대소문자를 구분한다.(sum, Sum, SUM)\n",
        "* 영문자, 숫자, 밑줄(A-z,0-9,_)\n",
        "* 파이썬 키워드는 사용 불가"
      ],
      "metadata": {
        "id": "KOXOgDbVoYrN"
      }
    },
    {
      "cell_type": "code",
      "source": [
        "a = 10\n",
        "b = 20\n",
        "c = a + b\n",
        "d = b - a\n",
        "\n",
        "print(c,d)"
      ],
      "metadata": {
        "colab": {
          "base_uri": "https://localhost:8080/"
        },
        "id": "_cgw_UJvjphT",
        "outputId": "e36b55a7-714c-4901-8574-773501e332f5"
      },
      "execution_count": null,
      "outputs": [
        {
          "output_type": "stream",
          "name": "stdout",
          "text": [
            "30 10\n"
          ]
        }
      ]
    },
    {
      "cell_type": "code",
      "source": [
        "a = 10\n",
        "b = 2\n",
        "# 나눗셈\n",
        "c = a/b # 나눗셈\n",
        "d = a//b # 몫을 구하는 나눗셈\n",
        "e = a%b # 나머지만 구하는 나눗셈\n",
        "# 곱셈\n",
        "f = a*b\n",
        "g = a**b # 제곱 # b는 a의 제곱근\n",
        "\n",
        "print(c,d,e,f,g)"
      ],
      "metadata": {
        "colab": {
          "base_uri": "https://localhost:8080/"
        },
        "id": "wNnMhTTMkzsL",
        "outputId": "d36bcc72-ae2c-4c04-9e6e-639c0b9659dc"
      },
      "execution_count": null,
      "outputs": [
        {
          "output_type": "stream",
          "name": "stdout",
          "text": [
            "4.0 4.0 0.0 25.0 316.22776601683796\n"
          ]
        }
      ]
    },
    {
      "cell_type": "markdown",
      "source": [
        "#### 문자열\n",
        "1. 큰 따옴표 : \"Hello World\"  \n",
        "2. 작은 따옴표 : 대한민국'  \n",
        "3. 큰 따옴표 3 : \"\"\"Hello!\"\"\"\n",
        "4. 작은 따옴표 3 : '''Life is too short, You need python'''\n"
      ],
      "metadata": {
        "id": "YoQ94qz7mzyo"
      }
    },
    {
      "cell_type": "code",
      "source": [
        "myName = \"Hyeong Kim\" # 낙타 표기법(카멜 표기법)\n",
        "my_name = \"김형식\" # 뱀 표기법 (스네이크 표기법)\n",
        "MyName = \"kiki\" # 파스칼 표기법\n",
        "_my_name = \"korea\"\n",
        "MYNAME = \"God is love\"\n",
        "my2name = \"12345\"\n",
        "# 2myname = '9876' 숫자가 앞으로 오는 것은 실행 안됨\n",
        "# my-name = \"michle\" 언더바가 있어야 가능하다. -는 안된다. \n",
        "# my name = \"kiki\" 중간에 스페이스바가 있으면 안되다. \n",
        "myStr = '123' # str\n",
        "myNum = 123 # int\n",
        "\n",
        "print(myStr, + myNum)\n",
        "print(type(myStr))\n",
        "print(type(myNum))"
      ],
      "metadata": {
        "colab": {
          "base_uri": "https://localhost:8080/"
        },
        "id": "jJTrQ-PsoKWu",
        "outputId": "d39a3a03-6730-448d-f6ae-aefb814ff0b4"
      },
      "execution_count": null,
      "outputs": [
        {
          "output_type": "stream",
          "name": "stdout",
          "text": [
            "123 123\n",
            "<class 'str'>\n",
            "<class 'int'>\n"
          ]
        }
      ]
    },
    {
      "cell_type": "markdown",
      "source": [
        "#### 여러개 변수 할당\n"
      ],
      "metadata": {
        "id": "k-_6_BTzwCDQ"
      }
    },
    {
      "cell_type": "code",
      "source": [
        "x,y,z = \"포도\", \"딸기\", \"수박\"\n",
        "print(x)\n",
        "print(y)\n",
        "print(z)"
      ],
      "metadata": {
        "colab": {
          "base_uri": "https://localhost:8080/"
        },
        "id": "ie707nkJwA3z",
        "outputId": "acdf5657-35db-4200-bc87-045ddbccaaac"
      },
      "execution_count": null,
      "outputs": [
        {
          "output_type": "stream",
          "name": "stdout",
          "text": [
            "포도\n",
            "딸기\n",
            "수박\n"
          ]
        }
      ]
    },
    {
      "cell_type": "code",
      "source": [
        "a= b = c = \"오렌지\"\n",
        "print(a)\n",
        "print(b)\n",
        "print(c)"
      ],
      "metadata": {
        "colab": {
          "base_uri": "https://localhost:8080/"
        },
        "id": "JcJ1RTa0wg_W",
        "outputId": "d5bdb9d3-0d06-4236-867c-cc74f45025c2"
      },
      "execution_count": null,
      "outputs": [
        {
          "output_type": "stream",
          "name": "stdout",
          "text": [
            "오렌지\n",
            "오렌지\n",
            "오렌지\n"
          ]
        }
      ]
    },
    {
      "cell_type": "code",
      "source": [
        "fruits = [\"포도\", \"딸기\", \"수박\"]\n",
        "x,y,z = fruits\n",
        "print(x)\n",
        "print(y)\n",
        "print(z)"
      ],
      "metadata": {
        "colab": {
          "base_uri": "https://localhost:8080/"
        },
        "id": "oqQ5GhI7w_Kk",
        "outputId": "bcdcb0e3-6344-4098-87b4-3183032cc5de"
      },
      "execution_count": null,
      "outputs": [
        {
          "output_type": "stream",
          "name": "stdout",
          "text": [
            "포도\n",
            "딸기\n",
            "수박\n"
          ]
        }
      ]
    },
    {
      "cell_type": "code",
      "source": [
        "x = \"Life\"\n",
        "y = \"is\"\n",
        "z = \"Beautiful\"\n",
        "print(x,y,z) # 공백이 생긴다.\n",
        "print(x+y+z) # 공백 없이 붙어서 생긴다. "
      ],
      "metadata": {
        "colab": {
          "base_uri": "https://localhost:8080/"
        },
        "id": "gChwlUKUxrPq",
        "outputId": "0391191b-3132-491e-d6ca-0f5e4a36a148"
      },
      "execution_count": null,
      "outputs": [
        {
          "output_type": "stream",
          "name": "stdout",
          "text": [
            "Life is Beautiful\n",
            "LifeisBeautiful\n"
          ]
        }
      ]
    },
    {
      "cell_type": "code",
      "source": [
        "a = 1\n",
        "b = 2\n",
        "c = 3\n",
        "print(a,b,c)\n",
        "print(a+b+c)"
      ],
      "metadata": {
        "colab": {
          "base_uri": "https://localhost:8080/"
        },
        "id": "HmPLOdOhydkH",
        "outputId": "256ef983-fc3a-42fa-9784-65d4a46ef54a"
      },
      "execution_count": null,
      "outputs": [
        {
          "output_type": "stream",
          "name": "stdout",
          "text": [
            "1 2 3\n",
            "6\n"
          ]
        }
      ]
    },
    {
      "cell_type": "markdown",
      "source": [
        "#### 데이터 할당\n",
        "+ 텍스트\n",
        "+ 숫자\n",
        "+ 불(bool)"
      ],
      "metadata": {
        "id": "JzaRQIgUzHqW"
      }
    },
    {
      "cell_type": "code",
      "source": [
        "a = 10\n",
        "b = 20\n",
        "sum = a + b\n",
        "print(a, '+', b, '=', sum)\n",
        "result = a * b\n",
        "print(a, '*', b, '=', result)\n",
        "result = a - b\n",
        "print(a, '-', b, '=', result)\n",
        "result = a/b\n",
        "print(a, '/', b, '=', result)\n",
        "result = a**b\n",
        "print(a, '**', b, '=', result)"
      ],
      "metadata": {
        "colab": {
          "base_uri": "https://localhost:8080/"
        },
        "id": "wdNL2eC2zQ-3",
        "outputId": "64716248-5750-4805-d0bd-e3e9db67bb29"
      },
      "execution_count": null,
      "outputs": [
        {
          "output_type": "stream",
          "name": "stdout",
          "text": [
            "10 + 20 = 30\n",
            "10 * 20 = 200\n",
            "10 - 20 = -10\n",
            "10 / 20 = 0.5\n",
            "10 ** 20 = 100000000000000000000\n"
          ]
        }
      ]
    },
    {
      "cell_type": "markdown",
      "source": [
        "#### input() 함수 이용한 계산기\n"
      ],
      "metadata": {
        "id": "X1tThMARAqL0"
      }
    },
    {
      "cell_type": "code",
      "source": [
        "a = int(input(\"첫번째 숫자를 입력하세요: \"))\n",
        "b = int(input(\"두번째 숫자를 입력하세요: \"))\n",
        "result = a + b # 덧셈\n",
        "print(a, '+', b, '=', result)\n",
        "result = a - b # 뺄셈\n",
        "print(a, '-', b, '=', result)\n",
        "result = a * b # 곱셈\n",
        "print(a, '*', b, '=', result)\n",
        "result = a/b # 나눗셈\n",
        "print(a, '/', b, '=', result)\n",
        "result = a**b # 제곱\n",
        "print(a, '**', b, '=', result)\n",
        "result = a//b # 몫\n",
        "print(a, '//', b, '=', result)\n",
        "result = a%b # 나머지\n",
        "print(a, '%', b, '=', result)"
      ],
      "metadata": {
        "colab": {
          "base_uri": "https://localhost:8080/"
        },
        "id": "6rbN1tIpAueJ",
        "outputId": "69560069-334d-4e18-860c-41b27c026409"
      },
      "execution_count": null,
      "outputs": [
        {
          "output_type": "stream",
          "name": "stdout",
          "text": [
            "첫번째 숫자를 입력하세요: 10\n",
            "두번째 숫자를 입력하세요: 2\n",
            "10 + 2 = 12\n",
            "10 - 2 = 8\n",
            "10 * 2 = 20\n",
            "10 / 2 = 5.0\n",
            "10 ** 2 = 100\n",
            "10 // 2 = 5\n",
            "10 % 2 = 0\n"
          ]
        }
      ]
    },
    {
      "cell_type": "code",
      "source": [
        "num1 = input(\"숫자입력1: \")\n",
        "num2 = input(\"숫자입력2: \")\n",
        "result = num1 + num2\n",
        "print(type(num1))\n",
        "print(num1, '+', num2, '=', result)"
      ],
      "metadata": {
        "colab": {
          "base_uri": "https://localhost:8080/"
        },
        "id": "wlbbNak4DeZ3",
        "outputId": "880e9085-2953-4668-c1b8-67f32812b8f8"
      },
      "execution_count": null,
      "outputs": [
        {
          "output_type": "stream",
          "name": "stdout",
          "text": [
            "숫자입력1: 100\n",
            "숫자입력2: 200\n",
            "<class 'int'>\n",
            "100 + 200 = 300\n"
          ]
        }
      ]
    },
    {
      "cell_type": "markdown",
      "source": [
        "## 1주차 퀴즈\n",
        "#### 전화번호, 이름, 무게(g)을 입력받아 출력  \n",
        "#### 입력한 내용은 이름 \"00\", 전화번호\"00\", 무게 \"00\"(g) 입니다.  \n",
        "#### 산출된 값은 \"00\"원 입니다. "
      ],
      "metadata": {
        "id": "6pooD1oeIHQo"
      }
    },
    {
      "cell_type": "code",
      "source": [
        "num1 = int(input(\"전화번호를 입력하세요: \"))  \n",
        "num2 = input(\"이름을 입력하세요: \")  \n",
        "num3 = int(input(\"무게g을 입력하세요: \")) \n",
        "num4 = 10  \n",
        "print('산출된 값은', num3 * num4, '원 입니다.')\n"
      ],
      "metadata": {
        "colab": {
          "base_uri": "https://localhost:8080/"
        },
        "id": "zyuxJ7KREj5X",
        "outputId": "479e6cb4-9a5d-4cad-9241-6bfcca06b538"
      },
      "execution_count": null,
      "outputs": [
        {
          "output_type": "stream",
          "name": "stdout",
          "text": [
            "전화번호를 입력하세요: 01046106659\n",
            "이름을 입력하세요: 김형식\n",
            "무게g을 입력하세요: 50\n",
            "산출된 값은 500 원 입니다.\n"
          ]
        }
      ]
    },
    {
      "cell_type": "markdown",
      "source": [],
      "metadata": {
        "id": "CalPVZh4icLj"
      }
    }
  ]
}