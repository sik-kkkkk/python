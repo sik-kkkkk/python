{
  "nbformat": 4,
  "nbformat_minor": 0,
  "metadata": {
    "colab": {
      "provenance": [],
      "authorship_tag": "ABX9TyNYyl+4CXBs0VdeXBe5Qdo3"
    },
    "kernelspec": {
      "name": "python3",
      "display_name": "Python 3"
    },
    "language_info": {
      "name": "python"
    }
  },
  "cells": [
    {
      "cell_type": "markdown",
      "source": [
        "# **CH03. 자료형**\n"
      ],
      "metadata": {
        "id": "DfW9XlBAe1KY"
      }
    },
    {
      "cell_type": "markdown",
      "source": [
        "\n",
        "## 1. 인덱스와 슬라이싱"
      ],
      "metadata": {
        "id": "tLs7Qe9d9JZA"
      }
    },
    {
      "cell_type": "code",
      "source": [
        "L = [0,1,2,3,4,5,6,7,8,9]\n",
        "print(L[4])"
      ],
      "metadata": {
        "colab": {
          "base_uri": "https://localhost:8080/"
        },
        "id": "3hfPOQASezfg",
        "outputId": "490cdd01-49f1-4122-e3f2-5c03d598138f"
      },
      "execution_count": null,
      "outputs": [
        {
          "output_type": "stream",
          "name": "stdout",
          "text": [
            "4\n"
          ]
        }
      ]
    },
    {
      "cell_type": "code",
      "source": [
        "L = [0,1,2,3,4,5,6,7,8,9]\n",
        "print(L[-1])"
      ],
      "metadata": {
        "colab": {
          "base_uri": "https://localhost:8080/"
        },
        "id": "BM69rBfRrk9G",
        "outputId": "7a03e2d1-d788-44b0-f468-62666c4a39b6"
      },
      "execution_count": null,
      "outputs": [
        {
          "output_type": "stream",
          "name": "stdout",
          "text": [
            "9\n"
          ]
        }
      ]
    },
    {
      "cell_type": "code",
      "source": [
        "L = [0,1,2,3,4,5,6,7,8,9]\n",
        "print(L[1:9:2])"
      ],
      "metadata": {
        "colab": {
          "base_uri": "https://localhost:8080/"
        },
        "id": "gXtj6VQeq32v",
        "outputId": "ce9eccc2-44a5-45f8-cac7-234beaf80a51"
      },
      "execution_count": null,
      "outputs": [
        {
          "output_type": "stream",
          "name": "stdout",
          "text": [
            "[1, 3, 5, 7]\n"
          ]
        }
      ]
    },
    {
      "cell_type": "code",
      "source": [
        "L = [0,1,2,3,4,5,6,7,8,9]\n",
        "print(len(L))\n",
        "print(L[len(L)-1])"
      ],
      "metadata": {
        "colab": {
          "base_uri": "https://localhost:8080/"
        },
        "id": "enwNUV2rrcmg",
        "outputId": "bf267578-d9a4-4b53-dca9-e6c3810735dd"
      },
      "execution_count": null,
      "outputs": [
        {
          "output_type": "stream",
          "name": "stdout",
          "text": [
            "10\n",
            "9\n"
          ]
        }
      ]
    },
    {
      "cell_type": "code",
      "source": [
        "L = [0,1,2,3,4,5,6,7,8,9]\n",
        "L[0] = 99\n",
        "L[9] = '가나다'\n",
        "L[1] = [1,2,3]\n",
        "print(L)\n",
        "print(L[9])"
      ],
      "metadata": {
        "colab": {
          "base_uri": "https://localhost:8080/"
        },
        "id": "Zx9KD3wEr5J4",
        "outputId": "8bcad37f-b72c-4c31-8ce8-f7af703e6f72"
      },
      "execution_count": null,
      "outputs": [
        {
          "output_type": "stream",
          "name": "stdout",
          "text": [
            "[99, [1, 2, 3], 2, 3, 4, 5, 6, 7, 8, '가나다']\n",
            "가나다\n"
          ]
        }
      ]
    },
    {
      "cell_type": "code",
      "source": [
        "a = [1,2,3]\n",
        "b = [4,5,6]\n",
        "c = a+b\n",
        "print(a+b)\n",
        "print(c)\n",
        "print(a*3)"
      ],
      "metadata": {
        "colab": {
          "base_uri": "https://localhost:8080/"
        },
        "id": "8pRpPM7Hsf0R",
        "outputId": "5d539645-6d13-417e-e933-10137a7e1c9d"
      },
      "execution_count": null,
      "outputs": [
        {
          "output_type": "stream",
          "name": "stdout",
          "text": [
            "[1, 2, 3, 4, 5, 6]\n",
            "[1, 2, 3, 4, 5, 6]\n",
            "[1, 2, 3, 1, 2, 3, 1, 2, 3]\n"
          ]
        }
      ]
    },
    {
      "cell_type": "code",
      "source": [
        "L = [1,2,3,4,5]\n",
        "print(L)\n",
        "L.append(6)  #리스트 뒤에 추가.\n",
        "print(L)\n",
        "L.remove(3)  #리스트에 해당되는 요소 값을 삭제한다. \n",
        "print(L)"
      ],
      "metadata": {
        "colab": {
          "base_uri": "https://localhost:8080/"
        },
        "id": "PvJl1r_7s73a",
        "outputId": "530fed13-2e98-4e8c-9902-b1590a6799bd"
      },
      "execution_count": null,
      "outputs": [
        {
          "output_type": "stream",
          "name": "stdout",
          "text": [
            "[1, 2, 3, 4, 5]\n",
            "[1, 2, 3, 4, 5, 6]\n",
            "[1, 2, 4, 5, 6]\n"
          ]
        }
      ]
    },
    {
      "cell_type": "code",
      "source": [
        "k = ['a','b','c','d']\n",
        "k.remove('b')\n",
        "print(k)"
      ],
      "metadata": {
        "colab": {
          "base_uri": "https://localhost:8080/"
        },
        "id": "7EkqBLv8toXK",
        "outputId": "8c43262c-5315-413a-b6da-61f9583427f7"
      },
      "execution_count": null,
      "outputs": [
        {
          "output_type": "stream",
          "name": "stdout",
          "text": [
            "['a', 'c', 'd']\n"
          ]
        }
      ]
    },
    {
      "cell_type": "code",
      "source": [
        "k = \"God is love!\"\n",
        "print(k[:3])\n",
        "print(k[6:])\n",
        "print(k[-8:-1])"
      ],
      "metadata": {
        "colab": {
          "base_uri": "https://localhost:8080/"
        },
        "id": "EyDSiP0qwn9l",
        "outputId": "3c366a4d-6911-4604-dd66-e4009169bd10"
      },
      "execution_count": null,
      "outputs": [
        {
          "output_type": "stream",
          "name": "stdout",
          "text": [
            "God\n",
            " love!\n",
            "is love\n"
          ]
        }
      ]
    },
    {
      "cell_type": "code",
      "source": [
        "k = \" God is love! \"\n",
        "print(k.upper())\n",
        "print(k.lower())\n",
        "print(k.strip())"
      ],
      "metadata": {
        "colab": {
          "base_uri": "https://localhost:8080/"
        },
        "id": "zb7Q1QzDxknw",
        "outputId": "5f432edc-ad87-43b9-aac1-055237ca77e9"
      },
      "execution_count": null,
      "outputs": [
        {
          "output_type": "stream",
          "name": "stdout",
          "text": [
            " GOD IS LOVE! \n",
            " god is love! \n",
            "God is love!\n"
          ]
        }
      ]
    },
    {
      "cell_type": "code",
      "source": [
        "a = \" God, is, love! \"\n",
        "print(a.split(\",\"))"
      ],
      "metadata": {
        "colab": {
          "base_uri": "https://localhost:8080/"
        },
        "id": "Lr0muiT3yR8d",
        "outputId": "7dbcb666-bff5-46f3-d25a-2fcd16d0ff30"
      },
      "execution_count": null,
      "outputs": [
        {
          "output_type": "stream",
          "name": "stdout",
          "text": [
            "[' God', ' is', ' love! ']\n"
          ]
        }
      ]
    },
    {
      "cell_type": "code",
      "source": [
        "a = [\"apple\", \"banana\", \"cherry\"]\n",
        "a.append(\"orrange\") #맨뒤에 추가가\n",
        "print(a)"
      ],
      "metadata": {
        "colab": {
          "base_uri": "https://localhost:8080/"
        },
        "id": "FZCLt2Tqy7Ik",
        "outputId": "bb1bdf02-d0b0-4c20-c2ea-b18d544bbc28"
      },
      "execution_count": null,
      "outputs": [
        {
          "output_type": "stream",
          "name": "stdout",
          "text": [
            "['apple', 'banana', 'cherry', 'orrange']\n"
          ]
        }
      ]
    },
    {
      "cell_type": "code",
      "source": [
        "a = [\"apple\", \"banana\", \"cherry\"]\n",
        "a.insert(1,\"orrange\") #지정된 곳에 삽입입\n",
        "print(a)"
      ],
      "metadata": {
        "colab": {
          "base_uri": "https://localhost:8080/"
        },
        "id": "hLsykHmwzTe5",
        "outputId": "d9134bb4-31e5-48ed-9260-10501e25a04a"
      },
      "execution_count": null,
      "outputs": [
        {
          "output_type": "stream",
          "name": "stdout",
          "text": [
            "['apple', 'orrange', 'banana', 'cherry']\n"
          ]
        }
      ]
    },
    {
      "cell_type": "code",
      "source": [
        "a = [\"apple\", \"banana\", \"cherry\"]\n",
        "a.remove(\"banana\")\n",
        "print(a)"
      ],
      "metadata": {
        "colab": {
          "base_uri": "https://localhost:8080/"
        },
        "id": "XZ_e_deuzwPM",
        "outputId": "1adeea38-e7e1-4c65-8bd1-ad53b1ee988a"
      },
      "execution_count": null,
      "outputs": [
        {
          "output_type": "stream",
          "name": "stdout",
          "text": [
            "['apple', 'cherry']\n"
          ]
        }
      ]
    },
    {
      "cell_type": "code",
      "source": [
        "a = [\"apple\", \"banana\", \"cherry\"]\n",
        "a.pop()  # 지정을 하지 않으연 맨뒤 값 삭제\n",
        "print(a)\n",
        "a.pop(1) #지정한 위치치 삭제\n",
        "print(a)"
      ],
      "metadata": {
        "colab": {
          "base_uri": "https://localhost:8080/"
        },
        "id": "uC67iH-Y0CBO",
        "outputId": "07bd0f20-cc18-44c7-d524-22f4056057e3"
      },
      "execution_count": null,
      "outputs": [
        {
          "output_type": "stream",
          "name": "stdout",
          "text": [
            "['apple', 'banana']\n",
            "['apple']\n"
          ]
        }
      ]
    },
    {
      "cell_type": "code",
      "source": [
        "a = [\"apple\", \"banana\", \"cherry\"]\n",
        "del a[0]\n",
        "print(a)\n",
        "a.clear()\n",
        "print(a)"
      ],
      "metadata": {
        "colab": {
          "base_uri": "https://localhost:8080/"
        },
        "id": "NpIVuAhj0isd",
        "outputId": "4d79ad9a-b71c-438b-ab39-0d7a87a67470"
      },
      "execution_count": null,
      "outputs": [
        {
          "output_type": "stream",
          "name": "stdout",
          "text": [
            "['banana', 'cherry']\n",
            "[]\n"
          ]
        }
      ]
    },
    {
      "cell_type": "code",
      "source": [
        "fruit = [\"apple\", \"banana\", \"cherry\"]\n",
        "for x in fruit:\n",
        "  print(x) "
      ],
      "metadata": {
        "colab": {
          "base_uri": "https://localhost:8080/"
        },
        "id": "9dhMci2z1B-U",
        "outputId": "a349a207-fa37-470d-cb7a-7726eb6eb847"
      },
      "execution_count": null,
      "outputs": [
        {
          "output_type": "stream",
          "name": "stdout",
          "text": [
            "apple\n",
            "banana\n",
            "cherry\n"
          ]
        }
      ]
    },
    {
      "cell_type": "code",
      "source": [
        "fruit = [\"apple\", \"banana\", \"cherry\"]\n",
        "for i in range(len(fruit)):\n",
        "  print(fruit)"
      ],
      "metadata": {
        "colab": {
          "base_uri": "https://localhost:8080/"
        },
        "id": "b4okSVsW1hpM",
        "outputId": "d6703657-8564-479b-ef22-3b843d02a4f3"
      },
      "execution_count": null,
      "outputs": [
        {
          "output_type": "stream",
          "name": "stdout",
          "text": [
            "['apple', 'banana', 'cherry']\n",
            "['apple', 'banana', 'cherry']\n",
            "['apple', 'banana', 'cherry']\n"
          ]
        }
      ]
    },
    {
      "cell_type": "markdown",
      "source": [
        "#### SORT"
      ],
      "metadata": {
        "id": "YO-3t3Tl2B_W"
      }
    },
    {
      "cell_type": "code",
      "source": [
        "a = [5,3,6,8,1,9,0]\n",
        "a.sort()\n",
        "print(a)"
      ],
      "metadata": {
        "colab": {
          "base_uri": "https://localhost:8080/"
        },
        "id": "1oMeCxDF1-es",
        "outputId": "e4b5e0a1-8e31-443f-81a7-633b486f37cc"
      },
      "execution_count": null,
      "outputs": [
        {
          "output_type": "stream",
          "name": "stdout",
          "text": [
            "[0, 1, 3, 5, 6, 8, 9]\n"
          ]
        }
      ]
    },
    {
      "cell_type": "code",
      "source": [
        "a = [5,3,6,8,1,9,0,2,4,7]\n",
        "a.sort(reverse = True)\n",
        "print(a)\n",
        "a.sort()\n",
        "print(a)"
      ],
      "metadata": {
        "colab": {
          "base_uri": "https://localhost:8080/"
        },
        "id": "nSfcHCz-2QXK",
        "outputId": "ccff176a-6aca-4d02-eabd-fb7a86c842c4"
      },
      "execution_count": null,
      "outputs": [
        {
          "output_type": "stream",
          "name": "stdout",
          "text": [
            "[9, 8, 7, 6, 5, 4, 3, 2, 1, 0]\n",
            "[0, 1, 2, 3, 4, 5, 6, 7, 8, 9]\n"
          ]
        }
      ]
    },
    {
      "cell_type": "code",
      "source": [
        "fruit = [\"apple\", \"Kiwi\", \"banana\", \"cherry\", \"Orange\"]\n",
        "fruit.sort()  # 대소문자 구분하여 정렬렬\n",
        "print(fruit)\n",
        "fruit.sort(key = str.lower)  # 대소문자 구분 없이 정렬렬\n",
        "print(fruit)\n",
        "fruit.reverse() # 항목의 순서를 반대로 바꿈\n",
        "print(fruit)"
      ],
      "metadata": {
        "colab": {
          "base_uri": "https://localhost:8080/"
        },
        "id": "lki7oHf72yja",
        "outputId": "f6a27d64-fdec-4f11-9473-7de47c540ff7"
      },
      "execution_count": null,
      "outputs": [
        {
          "output_type": "stream",
          "name": "stdout",
          "text": [
            "['Kiwi', 'Orange', 'apple', 'banana', 'cherry']\n",
            "['apple', 'banana', 'cherry', 'Kiwi', 'Orange']\n",
            "['Orange', 'Kiwi', 'cherry', 'banana', 'apple']\n"
          ]
        }
      ]
    },
    {
      "cell_type": "code",
      "source": [
        "# list 복사\n",
        "fruit = [\"apple\", \"Kiwi\", \"banana\", \"cherry\", \"Orange\"]\n",
        "myList = fruit.copy()\n",
        "print(myList)\n",
        "cpList = list(fruit)\n",
        "print(cpList)"
      ],
      "metadata": {
        "colab": {
          "base_uri": "https://localhost:8080/"
        },
        "id": "BBHc_u1I4EOe",
        "outputId": "5cb71777-e8aa-449e-a165-e2ca87b2815c"
      },
      "execution_count": null,
      "outputs": [
        {
          "output_type": "stream",
          "name": "stdout",
          "text": [
            "['apple', 'Kiwi', 'banana', 'cherry', 'Orange']\n",
            "['apple', 'Kiwi', 'banana', 'cherry', 'Orange']\n"
          ]
        }
      ]
    },
    {
      "cell_type": "markdown",
      "source": [
        "## **2. Tuple 자료형**"
      ],
      "metadata": {
        "id": "h_SRuDf95Pow"
      }
    },
    {
      "cell_type": "code",
      "source": [
        "l = [1,2,3]\n",
        "t = (4,5,6) # 튜플은 괄호가 다르다.\n",
        "l[0] = 5\n",
        "print(l)\n",
        "#t[0] = 1  # 튜플의 값은 변경 할수 없다. \n",
        "print(t)"
      ],
      "metadata": {
        "colab": {
          "base_uri": "https://localhost:8080/"
        },
        "id": "MbJLVwLy5aCp",
        "outputId": "72044cba-58e0-48c8-b1ca-e47e994abe11"
      },
      "execution_count": null,
      "outputs": [
        {
          "output_type": "stream",
          "name": "stdout",
          "text": [
            "[5, 2, 3]\n",
            "(4, 5, 6)\n"
          ]
        }
      ]
    },
    {
      "cell_type": "code",
      "source": [
        "f = (\"apple\", \"Kiwi\", \"banana\", \"cherry\", \"Orange\")\n",
        "print(len(f))"
      ],
      "metadata": {
        "colab": {
          "base_uri": "https://localhost:8080/"
        },
        "id": "PvLENF696DgZ",
        "outputId": "40e21b52-01d8-46d4-a120-ca4ec3aa4312"
      },
      "execution_count": null,
      "outputs": [
        {
          "output_type": "stream",
          "name": "stdout",
          "text": [
            "5\n"
          ]
        }
      ]
    },
    {
      "cell_type": "code",
      "source": [
        "t = (\"apple\",)\n",
        "print(t)\n",
        "print(type(t))\n",
        "f = (\"banana\") # 튜플로 인식하기 위해서는 \",\" 필요\n",
        "print(f)\n",
        "print(type(f)) # \",\"가 없어서 str로 인식식"
      ],
      "metadata": {
        "colab": {
          "base_uri": "https://localhost:8080/"
        },
        "id": "iV30pOGO6OTG",
        "outputId": "c3197f0d-a5fe-4396-8eb8-90e4d0cd0f3b"
      },
      "execution_count": null,
      "outputs": [
        {
          "output_type": "stream",
          "name": "stdout",
          "text": [
            "('apple',)\n",
            "<class 'tuple'>\n",
            "banana\n",
            "<class 'str'>\n"
          ]
        }
      ]
    },
    {
      "cell_type": "code",
      "source": [
        "f = (\"apple\", \"Kiwi\", \"banana\", \"cherry\", \"Orange\")\n",
        "print(f[:4])\n",
        "print(f[2:])"
      ],
      "metadata": {
        "colab": {
          "base_uri": "https://localhost:8080/"
        },
        "id": "AuDQX4KW7RYy",
        "outputId": "88ef362e-3c0a-42eb-f97f-be6f1830832c"
      },
      "execution_count": null,
      "outputs": [
        {
          "output_type": "stream",
          "name": "stdout",
          "text": [
            "('apple', 'Kiwi', 'banana', 'cherry')\n",
            "('banana', 'cherry', 'Orange')\n"
          ]
        }
      ]
    },
    {
      "cell_type": "code",
      "source": [
        "f = (\"apple\", \"Kiwi\", \"banana\", \"cherry\", \"Orange\")\n",
        "if \"apple\" in f:\n",
        "  print(\"Yes, 'apple' is in\")\n",
        "else:\n",
        "  print(\"No\")\n"
      ],
      "metadata": {
        "colab": {
          "base_uri": "https://localhost:8080/"
        },
        "id": "eFLdrcE07xRg",
        "outputId": "b1788c7a-b11e-4a5d-ddf2-54a293453ca9"
      },
      "execution_count": null,
      "outputs": [
        {
          "output_type": "stream",
          "name": "stdout",
          "text": [
            "Yes, 'apple' is in\n"
          ]
        }
      ]
    },
    {
      "cell_type": "markdown",
      "source": [
        "#### list <-> tuple"
      ],
      "metadata": {
        "id": "x7tXul8u_x3y"
      }
    },
    {
      "cell_type": "code",
      "source": [
        "# 리스트를 튜플로 바꾸기\n",
        "firm = ['Samsung', 'LG', 'SK']\n",
        "tdata = tuple(firm)\n",
        "print(firm)\n",
        "print(tdata)"
      ],
      "metadata": {
        "colab": {
          "base_uri": "https://localhost:8080/"
        },
        "id": "VJqTLSp0_1qP",
        "outputId": "4048c5d0-c564-4f17-9759-6e50ccde8206"
      },
      "execution_count": null,
      "outputs": [
        {
          "output_type": "stream",
          "name": "stdout",
          "text": [
            "['Samsung', 'LG', 'SK']\n",
            "('Samsung', 'LG', 'SK')\n"
          ]
        }
      ]
    },
    {
      "cell_type": "code",
      "source": [
        "# tuple에 추가\n",
        "t = (\"apple\", \"Kiwi\", \"banana\", \"cherry\")\n",
        "y = list(t)\n",
        "y.append(\"orange\")\n",
        "t = tuple(y)\n",
        "print(t)\n"
      ],
      "metadata": {
        "colab": {
          "base_uri": "https://localhost:8080/"
        },
        "id": "EN-saySLAToX",
        "outputId": "2bcfa989-d95d-49f1-8f1c-41c94719be20"
      },
      "execution_count": null,
      "outputs": [
        {
          "output_type": "stream",
          "name": "stdout",
          "text": [
            "('apple', 'Kiwi', 'banana', 'cherry', 'orange')\n"
          ]
        }
      ]
    },
    {
      "cell_type": "code",
      "source": [
        "t = (\"apple\", \"banana\", \"cherry\")\n",
        "q = (\"kiwi\",)\n",
        "t += q\n",
        "print(t)"
      ],
      "metadata": {
        "colab": {
          "base_uri": "https://localhost:8080/"
        },
        "id": "FumTCXp6BDEX",
        "outputId": "bbbaa938-3a2c-474d-e1ad-3ba0b5408be8"
      },
      "execution_count": null,
      "outputs": [
        {
          "output_type": "stream",
          "name": "stdout",
          "text": [
            "('apple', 'banana', 'cherry', 'kiwi')\n"
          ]
        }
      ]
    },
    {
      "cell_type": "code",
      "source": [
        "t = ('apple', 'banana', 'cherry', 'kiwi')\n",
        "l = list(t)\n",
        "l.remove('apple')\n",
        "t = tuple(l)\n",
        "print(t)\n",
        "del t\n",
        "#print(t)\n"
      ],
      "metadata": {
        "colab": {
          "base_uri": "https://localhost:8080/"
        },
        "id": "t2uUywTEBfdT",
        "outputId": "5ce8f351-b9da-4c37-8747-23717c0438ca"
      },
      "execution_count": null,
      "outputs": [
        {
          "output_type": "stream",
          "name": "stdout",
          "text": [
            "('banana', 'cherry', 'kiwi')\n"
          ]
        }
      ]
    },
    {
      "cell_type": "markdown",
      "source": [
        "## **3. dict 사전자료형**"
      ],
      "metadata": {
        "id": "7Zj26E6HEID_"
      }
    },
    {
      "cell_type": "code",
      "source": [
        "d = {\n",
        "    'a' : 1,\n",
        "    'b' : 2,\n",
        "    'c' : 3\n",
        "}\n",
        "print(d)\n",
        "print(d.keys())\n",
        "print(d.values())\n",
        "print(d.items())"
      ],
      "metadata": {
        "colab": {
          "base_uri": "https://localhost:8080/"
        },
        "id": "GPmFp18UELyO",
        "outputId": "a7b704b9-cda6-45db-fca9-2eae9cc72705"
      },
      "execution_count": null,
      "outputs": [
        {
          "output_type": "stream",
          "name": "stdout",
          "text": [
            "{'a': 1, 'b': 2, 'c': 3}\n",
            "dict_keys(['a', 'b', 'c'])\n",
            "dict_values([1, 2, 3])\n",
            "dict_items([('a', 1), ('b', 2), ('c', 3)])\n"
          ]
        }
      ]
    },
    {
      "cell_type": "code",
      "source": [
        "car = {\n",
        "    \"brand\" : \"BMW\" ,\n",
        "    \"model\" : \"GT\" ,\n",
        "    \"year\" : 1988\n",
        "}\n",
        "print(car)\n",
        "print(len(car))\n",
        "car[\"year\"] = 2000\n",
        "car[\"item\"] = 123456\n",
        "car.update({\"color\" : \"red\"})\n",
        "print(car)"
      ],
      "metadata": {
        "colab": {
          "base_uri": "https://localhost:8080/"
        },
        "id": "2_NLlGw0E3P-",
        "outputId": "820214f2-1bc2-4f95-f018-2d22640e7b40"
      },
      "execution_count": null,
      "outputs": [
        {
          "output_type": "stream",
          "name": "stdout",
          "text": [
            "{'brand': 'BMW', 'model': 'GT', 'year': 1988}\n",
            "3\n",
            "{'brand': 'BMW', 'model': 'GT', 'year': 2000, 'item': 123456, 'color': 'red'}\n"
          ]
        }
      ]
    },
    {
      "cell_type": "code",
      "source": [
        "# 항목 제거\n",
        "car = {\n",
        "    \"brand\" : \"BMW\" ,\n",
        "    \"model\" : \"GT\" ,\n",
        "    \"year\" : 1988\n",
        "}\n",
        "car.pop(\"model\")\n",
        "print(car)"
      ],
      "metadata": {
        "colab": {
          "base_uri": "https://localhost:8080/"
        },
        "id": "5LdoN1HzGqO-",
        "outputId": "20c8726a-7c4f-4214-afaf-f9e154261a9b"
      },
      "execution_count": null,
      "outputs": [
        {
          "output_type": "stream",
          "name": "stdout",
          "text": [
            "{'brand': 'BMW', 'year': 1988}\n"
          ]
        }
      ]
    },
    {
      "cell_type": "code",
      "source": [
        "car = {\n",
        "    \"brand\" : \"BMW\" ,\n",
        "    \"model\" : \"GT\" ,\n",
        "    \"year\" : 1988\n",
        "}\n",
        "car.popitem() \n",
        "print(car)"
      ],
      "metadata": {
        "colab": {
          "base_uri": "https://localhost:8080/"
        },
        "id": "3M6KGMkHG8Lx",
        "outputId": "dbdf5c2e-4170-4f93-e9e7-59f5b5f47666"
      },
      "execution_count": null,
      "outputs": [
        {
          "output_type": "stream",
          "name": "stdout",
          "text": [
            "{'brand': 'BMW', 'model': 'GT'}\n"
          ]
        }
      ]
    },
    {
      "cell_type": "code",
      "source": [
        "car = {\n",
        "    \"brand\" : \"BMW\" ,\n",
        "    \"model\" : \"GT\" ,\n",
        "    \"year\" : 1988\n",
        "}\n",
        "car.clear() # 비움\n",
        "#del car # 삭제\n",
        "print(car)"
      ],
      "metadata": {
        "colab": {
          "base_uri": "https://localhost:8080/"
        },
        "id": "ZFu00CdHHP6x",
        "outputId": "d2ecea8f-6521-414e-bcdf-1e94bc07054b"
      },
      "execution_count": null,
      "outputs": [
        {
          "output_type": "stream",
          "name": "stdout",
          "text": [
            "{}\n"
          ]
        }
      ]
    },
    {
      "cell_type": "markdown",
      "source": [
        "### LOOP"
      ],
      "metadata": {
        "id": "hWtRPhjIHzUa"
      }
    },
    {
      "cell_type": "code",
      "source": [
        "car = {\n",
        "    \"brand\" : \"BMW\" ,\n",
        "    \"model\" : \"GT\" ,\n",
        "    \"year\" : 1988\n",
        "}\n",
        "# 값을 하나씩 인쇄 \n",
        "for x in car:\n",
        "  print(car[x])"
      ],
      "metadata": {
        "id": "iJOwIj4vH00i"
      },
      "execution_count": null,
      "outputs": []
    },
    {
      "cell_type": "code",
      "source": [
        "car = {\n",
        "    \"brand\" : \"BMW\" ,\n",
        "    \"model\" : \"GT\" ,\n",
        "    \"year\" : 1988\n",
        "}\n",
        "for x in car.values():\n",
        "  print(x)"
      ],
      "metadata": {
        "colab": {
          "base_uri": "https://localhost:8080/"
        },
        "id": "cTVXPiCXIDl3",
        "outputId": "bf7179f1-6bc6-4b84-d3c7-8eae8a95c2f7"
      },
      "execution_count": null,
      "outputs": [
        {
          "output_type": "stream",
          "name": "stdout",
          "text": [
            "BMW\n",
            "GT\n",
            "1988\n"
          ]
        }
      ]
    },
    {
      "cell_type": "code",
      "source": [
        "car = {\n",
        "    \"brand\" : \"BMW\" ,\n",
        "    \"model\" : \"GT\" ,\n",
        "    \"year\" : 1988\n",
        "}\n",
        "for x,y in car.items():\n",
        "  print(x,y)"
      ],
      "metadata": {
        "colab": {
          "base_uri": "https://localhost:8080/"
        },
        "id": "2joyBW_5IUNm",
        "outputId": "054166bb-f35d-49b0-e2d2-d393454f1045"
      },
      "execution_count": null,
      "outputs": [
        {
          "output_type": "stream",
          "name": "stdout",
          "text": [
            "brand BMW\n",
            "model GT\n",
            "year 1988\n"
          ]
        }
      ]
    },
    {
      "cell_type": "code",
      "source": [
        "car = {\n",
        "    \"brand\" : \"BMW\" ,\n",
        "    \"model\" : \"GT\" ,\n",
        "    \"year\" : 1988\n",
        "}\n",
        "myCar = car.copy()\n",
        "print(myCar)"
      ],
      "metadata": {
        "colab": {
          "base_uri": "https://localhost:8080/"
        },
        "id": "JqPy6DBiIuBx",
        "outputId": "7b06287d-2ca7-4064-fb4d-3e19724fc68b"
      },
      "execution_count": null,
      "outputs": [
        {
          "output_type": "stream",
          "name": "stdout",
          "text": [
            "{'brand': 'BMW', 'model': 'GT', 'year': 1988}\n"
          ]
        }
      ]
    },
    {
      "cell_type": "code",
      "source": [
        "car = {\n",
        "    \"brand\" : \"BMW\" ,\n",
        "    \"model\" : \"GT\" ,\n",
        "    \"year\" : 1988\n",
        "}\n",
        "myCar = dict(car)\n",
        "print(myCar)"
      ],
      "metadata": {
        "colab": {
          "base_uri": "https://localhost:8080/"
        },
        "id": "Xs02tpBCI_gl",
        "outputId": "f5629b95-a42f-493b-ecb8-9d9e1432fec0"
      },
      "execution_count": null,
      "outputs": [
        {
          "output_type": "stream",
          "name": "stdout",
          "text": [
            "{'brand': 'BMW', 'model': 'GT', 'year': 1988}\n"
          ]
        }
      ]
    },
    {
      "cell_type": "code",
      "source": [
        "name1 = {\"name\":\"홍길동\",\"year\":2001}\n",
        "name2 = {\"name\":\"갑돌이\",\"year\":2010}\n",
        "name3 = {\"name\":\"갑순이\",\"year\":2003}\n",
        "family = {\n",
        "    \"첫째\" : name1,\n",
        "    \"둘째\" : name2,\n",
        "    \"셋째\" : name3\n",
        "}\n",
        "print(family)"
      ],
      "metadata": {
        "colab": {
          "base_uri": "https://localhost:8080/"
        },
        "id": "VgOfXH1hJTuc",
        "outputId": "98f35952-52fc-4364-cf47-388991ff7202"
      },
      "execution_count": null,
      "outputs": [
        {
          "output_type": "stream",
          "name": "stdout",
          "text": [
            "{'첫째': {'name': '홍길동', 'year': 2001}, '둘째': {'name': '갑돌이', 'year': 2010}, '셋째': {'name': '갑순이', 'year': 2003}}\n"
          ]
        }
      ]
    },
    {
      "cell_type": "markdown",
      "source": [],
      "metadata": {
        "id": "QCg0cvVqkyBE"
      }
    }
  ]
}