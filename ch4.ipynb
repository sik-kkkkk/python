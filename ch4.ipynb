{
  "nbformat": 4,
  "nbformat_minor": 0,
  "metadata": {
    "colab": {
      "provenance": [],
      "authorship_tag": "ABX9TyMaDHeOJheko/uI4Kts9E9O",
      "include_colab_link": true
    },
    "kernelspec": {
      "name": "python3",
      "display_name": "Python 3"
    },
    "language_info": {
      "name": "python"
    }
  },
  "cells": [
    {
      "cell_type": "markdown",
      "metadata": {
        "id": "view-in-github",
        "colab_type": "text"
      },
      "source": [
        "<a href=\"https://colab.research.google.com/github/sik-kkkkk/python/blob/main/ch4.ipynb\" target=\"_parent\"><img src=\"https://colab.research.google.com/assets/colab-badge.svg\" alt=\"Open In Colab\"/></a>"
      ]
    },
    {
      "cell_type": "markdown",
      "source": [
        "#CH4조건문, 반복문"
      ],
      "metadata": {
        "id": "L3jWDlpguO4e"
      }
    },
    {
      "cell_type": "markdown",
      "source": [
        "##중첩 if문"
      ],
      "metadata": {
        "id": "56OJviS4uUGI"
      }
    },
    {
      "cell_type": "code",
      "source": [
        "score = int(input(\"점수를 입력해 주세요 :\"))\n",
        "if (score > 100):\n",
        "  print(\"0~100까지의 숫자로 입력하세요\") \n",
        "elif(score >= 90):\n",
        " print(\"A\")\n",
        "elif(score >= 80):\n",
        " print(\"B\")\n",
        "elif(score >=70): \n",
        " print(\"C\")\n",
        "elif(score >= 60):\n",
        " print(\"D\")\n",
        "else:\n",
        " print(\"F\")\n",
        "print(\"학점, 점수: %3d\" %score)"
      ],
      "metadata": {
        "colab": {
          "base_uri": "https://localhost:8080/"
        },
        "id": "AmRVrcK-uWSR",
        "outputId": "7b1daf3d-c0fe-4532-da56-28615392a4e1"
      },
      "execution_count": null,
      "outputs": [
        {
          "output_type": "stream",
          "name": "stdout",
          "text": [
            "점수를 입력해 주세요 :80\n",
            "B\n",
            "학점, 점수:  80\n"
          ]
        }
      ]
    },
    {
      "cell_type": "code",
      "source": [
        "import random\n",
        "\n",
        "numbers = []\n",
        "for num in range(0,10):\n",
        "  numbers.append(random.randrange(0,10))\n",
        "\n",
        "print(\"생성된 리스트\", numbers)\n",
        "\n",
        "for num in range(0,10):\n",
        "  if num not in numbers:\n",
        "    print(\"숫자 %d는 리스트에 없습니다.\" %num)\n",
        "  else:\n",
        "    print(\"숫자 %d는 리스트에 있습니다.\" %num)"
      ],
      "metadata": {
        "colab": {
          "base_uri": "https://localhost:8080/"
        },
        "id": "rP9ge5iLzw2f",
        "outputId": "9b0ed6b6-f629-4ada-c7f2-3d2fb1c738c8"
      },
      "execution_count": null,
      "outputs": [
        {
          "output_type": "stream",
          "name": "stdout",
          "text": [
            "생성된 리스트 [7, 0, 4, 9, 7, 4, 0, 9, 0, 7]\n",
            "숫자 0는 리스트에 있습니다.\n",
            "숫자 1는 리스트에 없습니다.\n",
            "숫자 2는 리스트에 없습니다.\n",
            "숫자 3는 리스트에 없습니다.\n",
            "숫자 4는 리스트에 있습니다.\n",
            "숫자 5는 리스트에 없습니다.\n",
            "숫자 6는 리스트에 없습니다.\n",
            "숫자 7는 리스트에 있습니다.\n",
            "숫자 8는 리스트에 없습니다.\n",
            "숫자 9는 리스트에 있습니다.\n"
          ]
        }
      ]
    },
    {
      "cell_type": "code",
      "source": [
        "select, answer, numStr, num1, num2 = 0,0,\"\",0,0\n",
        "select = int(input(\"1.입력한 수식 계산 2.두수의 합계\"))\n",
        "\n",
        "if select == 1:\n",
        "  numStr = input(\"*** 수식을 입력하세요(1+2) : \")\n",
        "  answer = eval(numStr) # 1+2, \"string\"+\"str\"\n",
        "  print(\"%s 결과는 %5.1f 입니다.\" %(numStr,answer))\n",
        "elif select == 2:\n",
        "  num1 = int(input(\"***첫번째 숫자를 입력하세요 : \"))\n",
        "  num2 = int(input(\"***두번째 숫자를 입력하세요 : \"))\n",
        "  for i in range(num1,num2+1):\n",
        "    answer = answer + i\n",
        "  print(\"%d+...+%d는 %d입니다.  \" %(num1,num2,answer))\n",
        "else:\n",
        "  print(\"1또는 2만 입력해야 합니다.\")"
      ],
      "metadata": {
        "colab": {
          "base_uri": "https://localhost:8080/"
        },
        "id": "_Kndomxz5pVH",
        "outputId": "2020f53a-fb8a-445d-9e7c-b67da5fa51bc"
      },
      "execution_count": null,
      "outputs": [
        {
          "output_type": "stream",
          "name": "stdout",
          "text": [
            "1.입력한 수식 계산 2.두수의 합계2\n",
            "***첫번째 숫자를 입력하세요 : 2\n",
            "***두번째 숫자를 입력하세요 : 9\n",
            "2+...+9는 44입니다.  \n"
          ]
        }
      ]
    },
    {
      "cell_type": "markdown",
      "source": [
        "## for & while 반복문"
      ],
      "metadata": {
        "id": "EqeNCL1e-o7a"
      }
    },
    {
      "cell_type": "code",
      "source": [
        "for i in range(0,3,1):\n",
        "  print(\"안녕!\")"
      ],
      "metadata": {
        "colab": {
          "base_uri": "https://localhost:8080/"
        },
        "id": "4wV1COna-seJ",
        "outputId": "60f6dc99-8e36-4e8c-e616-5bcaf4a58c3c"
      },
      "execution_count": null,
      "outputs": [
        {
          "output_type": "stream",
          "name": "stdout",
          "text": [
            "안녕!\n",
            "안녕!\n",
            "안녕!\n"
          ]
        }
      ]
    },
    {
      "cell_type": "code",
      "source": [
        "for i in [0,3,10]:  #[]를 사용할땐 range를 쓰지 않아도 된다. \n",
        "  print(\"안녕!\")"
      ],
      "metadata": {
        "colab": {
          "base_uri": "https://localhost:8080/"
        },
        "id": "X0aa_0qD-0ri",
        "outputId": "9eece6d1-0aa1-4fb7-cd39-8e2621a5b74a"
      },
      "execution_count": null,
      "outputs": [
        {
          "output_type": "stream",
          "name": "stdout",
          "text": [
            "안녕!\n",
            "안녕!\n",
            "안녕!\n"
          ]
        }
      ]
    },
    {
      "cell_type": "code",
      "source": [
        "for i in range(0,3,1):\n",
        "  for j in range(0,5,1):\n",
        "    print(\"i:%d, j:%d\" %(i,j))"
      ],
      "metadata": {
        "colab": {
          "base_uri": "https://localhost:8080/"
        },
        "id": "An1ilZBmAsGf",
        "outputId": "605b3270-933a-43ea-c569-196b9c3f118f"
      },
      "execution_count": null,
      "outputs": [
        {
          "output_type": "stream",
          "name": "stdout",
          "text": [
            "i:0, j:0\n",
            "i:0, j:1\n",
            "i:0, j:2\n",
            "i:0, j:3\n",
            "i:0, j:4\n",
            "i:1, j:0\n",
            "i:1, j:1\n",
            "i:1, j:2\n",
            "i:1, j:3\n",
            "i:1, j:4\n",
            "i:2, j:0\n",
            "i:2, j:1\n",
            "i:2, j:2\n",
            "i:2, j:3\n",
            "i:2, j:4\n"
          ]
        }
      ]
    },
    {
      "cell_type": "code",
      "source": [
        "i,j = 0,0\n",
        "for i in range(2,10,1):\n",
        "  for j in range(1,10,1):\n",
        "    print(\"%d x %d = %2d\" %(i,j,i*j), end='')\n",
        "  print(\"\")"
      ],
      "metadata": {
        "colab": {
          "base_uri": "https://localhost:8080/"
        },
        "id": "vaq9JYcqBTJ4",
        "outputId": "fac49922-3bfb-46f7-f973-d4601c041865"
      },
      "execution_count": null,
      "outputs": [
        {
          "output_type": "stream",
          "name": "stdout",
          "text": [
            "2 x 1 =  22 x 2 =  42 x 3 =  62 x 4 =  82 x 5 = 102 x 6 = 122 x 7 = 142 x 8 = 162 x 9 = 18\n",
            "3 x 1 =  33 x 2 =  63 x 3 =  93 x 4 = 123 x 5 = 153 x 6 = 183 x 7 = 213 x 8 = 243 x 9 = 27\n",
            "4 x 1 =  44 x 2 =  84 x 3 = 124 x 4 = 164 x 5 = 204 x 6 = 244 x 7 = 284 x 8 = 324 x 9 = 36\n",
            "5 x 1 =  55 x 2 = 105 x 3 = 155 x 4 = 205 x 5 = 255 x 6 = 305 x 7 = 355 x 8 = 405 x 9 = 45\n",
            "6 x 1 =  66 x 2 = 126 x 3 = 186 x 4 = 246 x 5 = 306 x 6 = 366 x 7 = 426 x 8 = 486 x 9 = 54\n",
            "7 x 1 =  77 x 2 = 147 x 3 = 217 x 4 = 287 x 5 = 357 x 6 = 427 x 7 = 497 x 8 = 567 x 9 = 63\n",
            "8 x 1 =  88 x 2 = 168 x 3 = 248 x 4 = 328 x 5 = 408 x 6 = 488 x 7 = 568 x 8 = 648 x 9 = 72\n",
            "9 x 1 =  99 x 2 = 189 x 3 = 279 x 4 = 369 x 5 = 459 x 6 = 549 x 7 = 639 x 8 = 729 x 9 = 81\n"
          ]
        }
      ]
    },
    {
      "cell_type": "code",
      "source": [
        "i = 0\n",
        "while i<3:\n",
        "  print(\"%d : while문\" %i)\n",
        "  i = i+1"
      ],
      "metadata": {
        "colab": {
          "base_uri": "https://localhost:8080/"
        },
        "id": "jaie411CCeE2",
        "outputId": "faed3f0b-34e6-4f1a-aa77-3ea5b0892fba"
      },
      "execution_count": null,
      "outputs": [
        {
          "output_type": "stream",
          "name": "stdout",
          "text": [
            "0 : while문\n",
            "1 : while문\n",
            "2 : while문\n"
          ]
        }
      ]
    },
    {
      "cell_type": "code",
      "source": [
        "# Q 1부터 10까지 합계를 while, for 문으로 \n",
        "i, hap = 0,0\n",
        "i = 1\n",
        "while i<11:\n",
        "  hap = hap+ i\n",
        "  i=i+1\n",
        "\n",
        "print(\"1부터 10까지의 합계: %d\" %hap)"
      ],
      "metadata": {
        "colab": {
          "base_uri": "https://localhost:8080/"
        },
        "id": "hF_L_bCjDRws",
        "outputId": "af05f54a-66f3-4227-9072-fe3299a5ff5e"
      },
      "execution_count": null,
      "outputs": [
        {
          "output_type": "stream",
          "name": "stdout",
          "text": [
            "1부터 10까지의 합계: 55\n"
          ]
        }
      ]
    },
    {
      "cell_type": "code",
      "source": [
        "# Q 1부터 10까지 합계를 while, for 문으로 \n",
        "i, hap = 0,0\n",
        "for i in range(1,11,1):\n",
        "  hap = hap + i\n",
        "\n",
        "print(\"1부터 10까지의 합계: %d\" %hap)"
      ],
      "metadata": {
        "colab": {
          "base_uri": "https://localhost:8080/"
        },
        "id": "xgO3TLF6DxDS",
        "outputId": "edb84273-a4c5-4def-c836-cf90993add83"
      },
      "execution_count": null,
      "outputs": [
        {
          "output_type": "stream",
          "name": "stdout",
          "text": [
            "1부터 10까지의 합계: 55\n"
          ]
        }
      ]
    },
    {
      "cell_type": "code",
      "source": [
        "#while True:\n",
        "  print(\"무한 루프ㅠㅠ \", end ='')"
      ],
      "metadata": {
        "id": "8Bw7jUeLETCF"
      },
      "execution_count": null,
      "outputs": []
    },
    {
      "cell_type": "code",
      "source": [
        "# break\n",
        "for i in range(1,100):\n",
        "  print(\"for문 %d번 실행\" %i)\n",
        "  break\n",
        "print(\"break 빠짐\")"
      ],
      "metadata": {
        "colab": {
          "base_uri": "https://localhost:8080/"
        },
        "id": "LiJYuAV-E4Fr",
        "outputId": "c1e13b95-857f-4a75-91f7-519257ff62d2"
      },
      "execution_count": null,
      "outputs": [
        {
          "output_type": "stream",
          "name": "stdout",
          "text": [
            "for문 1번 실행\n",
            "break 빠짐\n"
          ]
        }
      ]
    },
    {
      "cell_type": "code",
      "source": [
        "hap = 0\n",
        "a,b = 0,0\n",
        "while True:\n",
        "  a = int(input(\"덧셈 첫번째 수 입력: \"))\n",
        "  if a==0: \n",
        "    break\n",
        "  b = int(input(\"덧셈 두번째 수 입력: \"))\n",
        "  hap = a + b\n",
        "  print(\"%d + %d = %d\" %(a,b,hap))\n",
        "\n",
        "print(\"break로 탈출\")"
      ],
      "metadata": {
        "colab": {
          "base_uri": "https://localhost:8080/"
        },
        "id": "o6cogOSjFdZU",
        "outputId": "40c80e89-7596-4919-bc7d-a2a302a42e24"
      },
      "execution_count": null,
      "outputs": [
        {
          "output_type": "stream",
          "name": "stdout",
          "text": [
            "덧셈 첫번째 수 입력: 1\n",
            "덧셈 두번째 수 입력: 2\n",
            "1 + 2 = 3\n",
            "덧셈 첫번째 수 입력: 0\n",
            "break로 탈출\n"
          ]
        }
      ]
    },
    {
      "cell_type": "code",
      "source": [
        "#continue\n",
        "hap, i = 0,0\n",
        "for i in range(1,11):\n",
        "  if i % 2 == 0:\n",
        "    print(\"i:%d\" %i)\n",
        "    continue\n",
        "  hap += i\n",
        "\n",
        "print(\"1~10 합계(2의 배수 제외): %d\" %hap)"
      ],
      "metadata": {
        "colab": {
          "base_uri": "https://localhost:8080/"
        },
        "id": "f2q-FnrIHOGN",
        "outputId": "9919a3f2-48d2-4d93-96a7-586e2678642a"
      },
      "execution_count": null,
      "outputs": [
        {
          "output_type": "stream",
          "name": "stdout",
          "text": [
            "i:2\n",
            "i:4\n",
            "i:6\n",
            "i:8\n",
            "i:10\n",
            "1~10 합계(2의 배수 제외): 25\n"
          ]
        }
      ]
    },
    {
      "cell_type": "code",
      "source": [
        "#continue\n",
        "hap, i = 0,0\n",
        "for i in range(1,101):\n",
        "  if i % 3 == 0:\n",
        "    continue\n",
        "  hap += i\n",
        "\n",
        "print(\"1~100 합계(3의 배수 제외): %d\" %hap)"
      ],
      "metadata": {
        "colab": {
          "base_uri": "https://localhost:8080/"
        },
        "id": "B7wOXXSlGlVD",
        "outputId": "4257abbe-3207-4134-8b79-9734bada972b"
      },
      "execution_count": null,
      "outputs": [
        {
          "output_type": "stream",
          "name": "stdout",
          "text": [
            "1~100 합계(3의 배수 제외): 3367\n"
          ]
        }
      ]
    },
    {
      "cell_type": "code",
      "source": [
        "fruits = [\"사과\", \"바나나\", \"체리\"]\n",
        "for x in fruits:\n",
        "  if x == \"바나나\":\n",
        "    continue\n",
        "  print(x)"
      ],
      "metadata": {
        "colab": {
          "base_uri": "https://localhost:8080/"
        },
        "id": "LANVlJ7PIVcD",
        "outputId": "13fb6c78-0369-4ad1-b9cb-9f05fa3b69c4"
      },
      "execution_count": null,
      "outputs": [
        {
          "output_type": "stream",
          "name": "stdout",
          "text": [
            "사과\n",
            "체리\n"
          ]
        }
      ]
    },
    {
      "cell_type": "code",
      "source": [
        "for x in range(6):\n",
        "  if x == 3: break\n",
        "  print(x)\n",
        "else:\n",
        "  print(\"끝\")"
      ],
      "metadata": {
        "colab": {
          "base_uri": "https://localhost:8080/"
        },
        "id": "qxmWRpNTIt8k",
        "outputId": "415ab57a-853e-48cd-9637-26c1b2f8c030"
      },
      "execution_count": null,
      "outputs": [
        {
          "output_type": "stream",
          "name": "stdout",
          "text": [
            "0\n",
            "1\n",
            "2\n",
            "3\n",
            "4\n",
            "5\n",
            "끝\n"
          ]
        }
      ]
    },
    {
      "cell_type": "code",
      "source": [
        "#for문 루프는 비워 둘수 없음\n",
        "for x in [0,1,2]:\n",
        "  pass"
      ],
      "metadata": {
        "id": "zFzJOo4yL61b"
      },
      "execution_count": null,
      "outputs": []
    },
    {
      "cell_type": "markdown",
      "source": [
        "##함수"
      ],
      "metadata": {
        "id": "zXgCvnkHMBo6"
      }
    },
    {
      "cell_type": "code",
      "source": [
        "#두수를 더하는 함수\n",
        "def plus(v1,v2):\n",
        "  result = 0\n",
        "  result = v1+v2\n",
        "  return result\n",
        "\n",
        "hap = 0\n",
        "hap = plus(10,20)\n",
        "print(\"10+20 plus() 처리 결과는 %d \" %hap)\n",
        "hap = plus(20,30)\n",
        "print(\"20+30 plus() 처리 결과는 %d \" %hap)"
      ],
      "metadata": {
        "colab": {
          "base_uri": "https://localhost:8080/"
        },
        "id": "GD383_6xMDMK",
        "outputId": "47e8f1a9-358a-4ea2-e22a-6f3d45bd5fa8"
      },
      "execution_count": null,
      "outputs": [
        {
          "output_type": "stream",
          "name": "stdout",
          "text": [
            "10+20 plus() 처리 결과는 30 \n",
            "20+30 plus() 처리 결과는 50 \n"
          ]
        }
      ]
    },
    {
      "cell_type": "code",
      "source": [
        "#계산기 코드\n",
        "def calc(v1,v2,op):\n",
        "  result = 0\n",
        "  if op == '+':\n",
        "    result = v1 + v2\n",
        "  elif op == '-':\n",
        "    result = v1 - v2\n",
        "  elif op == '*':            \n",
        "    result = v1 * v2\n",
        "  elif op == '/':\n",
        "    result = v1 / v2\n",
        "  return result\n",
        "\n",
        "rst = 0 \n",
        "var1, var2, opr = 0,0,\"\"\n",
        "\n",
        "opr = input(\"(+,-,*,/) 입력: \")\n",
        "var1 = int(input(\"1번째 수 입력: \"))\n",
        "var2 = int(input(\"2번째 수 입력: \"))\n",
        "rst = calc(var1, var2, opr)\n",
        "print(\"계산기%d %s %d = %d\" %(var1, opr, var2, rst))"
      ],
      "metadata": {
        "colab": {
          "base_uri": "https://localhost:8080/"
        },
        "id": "nN2xfjEYNi8y",
        "outputId": "c6b0bf42-ce8e-4372-e475-edbef1a0a42c"
      },
      "execution_count": null,
      "outputs": [
        {
          "output_type": "stream",
          "name": "stdout",
          "text": [
            "(+,-,*,/) 입력: +\n",
            "1번째 수 입력: 60\n",
            "2번째 수 입력: 40\n",
            "계산기60 + 40 = 100\n"
          ]
        }
      ]
    }
  ]
}