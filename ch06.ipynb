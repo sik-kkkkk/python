{
  "nbformat": 4,
  "nbformat_minor": 0,
  "metadata": {
    "colab": {
      "provenance": [],
      "authorship_tag": "ABX9TyMf5RG4GWV04drzTyu3kQ4O"
    },
    "kernelspec": {
      "name": "python3",
      "display_name": "Python 3"
    },
    "language_info": {
      "name": "python"
    }
  },
  "cells": [
    {
      "cell_type": "markdown",
      "source": [
        "# **CH6.Func 활용**"
      ],
      "metadata": {
        "id": "ITH-BIjM6fl6"
      }
    },
    {
      "cell_type": "code",
      "source": [
        "def Hello():\n",
        "    \"Hello():함수의 설명을 적을 수 있음\"\n",
        "    print(\"안녕하세요~\")\n",
        "    print(\"파이썬 함수 연습입니다.\")\n",
        "\n",
        "Hello()\n",
        "help(Hello)"
      ],
      "metadata": {
        "colab": {
          "base_uri": "https://localhost:8080/"
        },
        "id": "i-25Tbn16nk7",
        "outputId": "804765a8-5703-42fc-92c9-1cda30e8eb5b"
      },
      "execution_count": 1,
      "outputs": [
        {
          "output_type": "stream",
          "name": "stdout",
          "text": [
            "안녕하세요~\n",
            "파이썬 함수 연습입니다.\n",
            "Help on function Hello in module __main__:\n",
            "\n",
            "Hello()\n",
            "    Hello():함수의 설명을 적을 수 있음\n",
            "\n"
          ]
        }
      ]
    },
    {
      "cell_type": "code",
      "source": [
        "c = 0\n",
        "def add(a,b):\n",
        "    \"두개의 변수를 받아 더하는 함수\"\n",
        "    global c\n",
        "    c = a+b\n",
        "    #print(c) #pass\n",
        "\n",
        "def addr(a,b):\n",
        "    return a+b\n",
        "\n",
        "add(10,20)\n",
        "print(c)\n",
        "print(\"---------\")\n",
        "y = addr(10,20)\n",
        "print(y)\n"
      ],
      "metadata": {
        "id": "uBKbnFrw64pI"
      },
      "execution_count": null,
      "outputs": []
    },
    {
      "cell_type": "code",
      "source": [
        "a = 20\n",
        "def func():\n",
        "    a = 10\n",
        "    print(a)\n",
        "\n",
        "func()\n",
        "print(a)"
      ],
      "metadata": {
        "id": "pkmQhYDN66KS"
      },
      "execution_count": null,
      "outputs": []
    },
    {
      "cell_type": "code",
      "source": [
        "def func():\n",
        "    b = 10 #지역변수\n",
        "    print(b)\n",
        "\n",
        "func()\n",
        "print(b)"
      ],
      "metadata": {
        "id": "oemMAzTF67q8"
      },
      "execution_count": null,
      "outputs": []
    },
    {
      "cell_type": "code",
      "source": [
        "a = 10\n",
        "def func():\n",
        "    b = 20\n",
        "    return a + b\n",
        "\n",
        "x = func()\n",
        "print(x)"
      ],
      "metadata": {
        "id": "7QjLkZ9a69F4"
      },
      "execution_count": null,
      "outputs": []
    },
    {
      "cell_type": "code",
      "source": [
        "def func(a,b=20):\n",
        "    print(a+b)\n",
        "\n",
        "func(10,30)"
      ],
      "metadata": {
        "id": "zMWXI2Dy6_5x"
      },
      "execution_count": null,
      "outputs": []
    },
    {
      "cell_type": "code",
      "source": [
        "from tkinter import *\n",
        "\n",
        "window = Tk()\n",
        "#\n",
        "window.title(\"윈도우 창 연습\")\n",
        "window.geometry(\"400x400\")\n",
        "window.resizable(width=TRUE, height=FALSE)\n",
        "\n",
        "window.mainloop()"
      ],
      "metadata": {
        "id": "EOhf1CwB7BCq"
      },
      "execution_count": null,
      "outputs": []
    },
    {
      "cell_type": "code",
      "source": [
        "from tkinter import *\n",
        "\n",
        "window = Tk()\n",
        "window.title(\"레이블\")\n",
        "label1 = Label(window, text=\"안녕하세요! 김형식 입니다.\")\n",
        "label2 = Label(window, text=\"Python<br>korea\", font=(\"궁서체\",30),fg=\"red\")\n",
        "label3 = Label(window, text=\"Love is\",font=(\"굴림체\",20), bg=\"yellow\", width=25,height=10,anchor=N)\n",
        "\n",
        "label1.pack()\n",
        "label2.pack()\n",
        "label3.pack()\n",
        "\n",
        "window.mainloop()"
      ],
      "metadata": {
        "id": "up9ZOUiG7CTz"
      },
      "execution_count": null,
      "outputs": []
    },
    {
      "cell_type": "code",
      "source": [
        "from tkinter import *\n",
        "window = Tk()\n",
        "\n",
        "window.title(\"카르멜 사진\")\n",
        "photo = PhotoImage(file = \"C:\\\\Users\\\\김형식\\\\Desktop\\\\pick.png\")\n",
        "photo2 = PhotoImage(file = \"C:\\\\Users\\\\김형식\\\\Desktop\\\\pick2.png\")\n",
        "label1 = Label(window, image = photo)\n",
        "label2 = Label(window, image = photo2)\n",
        "\n",
        "label1.pack(side=LEFT)\n",
        "label2.pack(side=RIGHT)\n",
        "window.mainloop()"
      ],
      "metadata": {
        "id": "00NRm7qe7ESm"
      },
      "execution_count": null,
      "outputs": []
    },
    {
      "cell_type": "code",
      "source": [
        "#버튼\n",
        "from tkinter import *\n",
        "\n",
        "tk = Tk()\n",
        "tk.geometry(\"300x200\")\n",
        "button1 = Button(tk, text=\"파이썬 종료\", fg=\"blue\", bg=\"yellow\" ,command=quit)\n",
        "button1.pack()\n",
        "\n",
        "tk.mainloop()"
      ],
      "metadata": {
        "id": "gp2gSZu27F5g"
      },
      "execution_count": null,
      "outputs": []
    },
    {
      "cell_type": "code",
      "source": [
        "from tkinter import *\n",
        "from tkinter import messagebox\n",
        "\n",
        "def myFunc():\n",
        "    messagebox.showinfo(\"카르멜 버튼\", \"카르멜 귀하다\")\n",
        "\n",
        "tk = Tk()\n",
        "photo = PhotoImage(file=\"C:\\\\Users\\\\김형식\\\\Desktop\\\\pick.png\")\n",
        "#button1 = Button(tk, text=\"파이썬 종료\", fg=\"blue\", bg=\"yellow\" ,command=quit)\n",
        "button1 = Button(tk, image=photo, command=myFunc)\n",
        "\n",
        "button1.pack()\n",
        "tk.mainloop()"
      ],
      "metadata": {
        "id": "3r6RAVoj7Hh7"
      },
      "execution_count": null,
      "outputs": []
    }
  ]
}