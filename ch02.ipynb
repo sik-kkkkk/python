{
  "nbformat": 4,
  "nbformat_minor": 0,
  "metadata": {
    "colab": {
      "provenance": [],
      "authorship_tag": "ABX9TyPjdui+b3PgK3bizi+9y6jq"
    },
    "kernelspec": {
      "name": "python3",
      "display_name": "Python 3"
    },
    "language_info": {
      "name": "python"
    }
  },
  "cells": [
    {
      "cell_type": "markdown",
      "source": [
        "# **CH02. print() 서식 출력**"
      ],
      "metadata": {
        "id": "OeIPu4MtieKY"
      }
    },
    {
      "cell_type": "code",
      "source": [
        "print(\"%d\" % 123)  \n",
        "print(\"%5d\" % 123)  \n",
        "print(\"%05d\" % 123)  \n",
        "\n",
        "print(\"%f\" % 123.45)  \n",
        "print(\"%7.1f\" % 123.45)  \n",
        "print(\"%7.3f\" % 123.45)  \n",
        "\n",
        "print(\"%s\" % \"대한민국\")\n",
        "print(\"%8s\" % \"대한민국\")"
      ],
      "metadata": {
        "colab": {
          "base_uri": "https://localhost:8080/"
        },
        "id": "ruta5kB3ixdo",
        "outputId": "232ff043-dbab-4e6a-de62-5073d474d597"
      },
      "execution_count": null,
      "outputs": [
        {
          "output_type": "stream",
          "name": "stdout",
          "text": [
            "123\n",
            "  123\n",
            "00123\n",
            "123.450000\n",
            "  123.5\n",
            "123.450\n",
            "대한민국\n",
            "    대한민국\n"
          ]
        }
      ]
    },
    {
      "cell_type": "markdown",
      "source": [
        "#### Fomat 함수 : 순서 지정 가능\n",
        "\n"
      ],
      "metadata": {
        "id": "6W-Q-VqAkn-N"
      }
    },
    {
      "cell_type": "code",
      "source": [
        "print(\"{0:d} {1:5d} {2:05d}\". format(123,456,789))"
      ],
      "metadata": {
        "colab": {
          "base_uri": "https://localhost:8080/"
        },
        "id": "fdMeXIMlj_Jc",
        "outputId": "2b3fee38-e41f-4ca7-9035-f5aaad8a36cd"
      },
      "execution_count": null,
      "outputs": [
        {
          "output_type": "stream",
          "name": "stdout",
          "text": [
            "123   456 00789\n"
          ]
        }
      ]
    },
    {
      "cell_type": "code",
      "source": [
        "print(\"{2:d} {1:5d} {0:05d}\". format(123,456,789))"
      ],
      "metadata": {
        "colab": {
          "base_uri": "https://localhost:8080/"
        },
        "id": "Jw3m8WThkYGe",
        "outputId": "c017d26f-81f7-41a1-8c27-dbbfd3e69097"
      },
      "execution_count": null,
      "outputs": [
        {
          "output_type": "stream",
          "name": "stdout",
          "text": [
            "789   456 00123\n"
          ]
        }
      ]
    },
    {
      "cell_type": "markdown",
      "source": [
        "#### 서식 출력"
      ],
      "metadata": {
        "id": "ReGDPfOok7XZ"
      }
    },
    {
      "cell_type": "code",
      "source": [
        "print(\"\\n줄바꿈\\n연습입니다.\")"
      ],
      "metadata": {
        "colab": {
          "base_uri": "https://localhost:8080/"
        },
        "id": "Q7RbDaoQlB3h",
        "outputId": "b5859a12-641c-41db-b260-74531dd2ef86"
      },
      "execution_count": null,
      "outputs": [
        {
          "output_type": "stream",
          "name": "stdout",
          "text": [
            "\n",
            "줄바꿈\n",
            "연습입니다.\n"
          ]
        }
      ]
    },
    {
      "cell_type": "code",
      "source": [
        "print(\"\\t탭키\\t연습\")"
      ],
      "metadata": {
        "colab": {
          "base_uri": "https://localhost:8080/"
        },
        "id": "Ojv_iv4TlUWb",
        "outputId": "e1a852b9-c1f5-4980-b010-0ad0595803b0"
      },
      "execution_count": null,
      "outputs": [
        {
          "output_type": "stream",
          "name": "stdout",
          "text": [
            "\t탭키\t연습\n"
          ]
        }
      ]
    },
    {
      "cell_type": "code",
      "source": [
        "print(\"글자가 \\\"강조\\\"되는 효과1\")\n",
        "print(\"글자가 \\'강조\\'되는 효과2\")\n",
        "print(\"역슬레시 3개출력\\\\\\\\\\\\\")\n",
        "print(r\"\\n \\t \\\" \\\\를 그대로 출력\") # 그대로 출력됨"
      ],
      "metadata": {
        "colab": {
          "base_uri": "https://localhost:8080/"
        },
        "id": "lsGWyhVWljuU",
        "outputId": "226ef21c-ce08-4c61-a2df-b8e5a5c47b39"
      },
      "execution_count": null,
      "outputs": [
        {
          "output_type": "stream",
          "name": "stdout",
          "text": [
            "글자가 \"강조\"되는 효과1\n",
            "글자가 '강조'되는 효과2\n",
            "역슬레시 3개출력\\\\\\\n",
            "\\n \\t \\\" \\\\를 그대로 출력\n"
          ]
        }
      ]
    },
    {
      "cell_type": "markdown",
      "source": [
        "####관계 연산자"
      ],
      "metadata": {
        "id": "KdTyERAJoizE"
      }
    },
    {
      "cell_type": "code",
      "source": [
        "a,b = 10,20\n",
        "print(a==b, a!=b, a>b, a<b, a>=b, a<=b)"
      ],
      "metadata": {
        "colab": {
          "base_uri": "https://localhost:8080/"
        },
        "id": "7n_LKuEeomRX",
        "outputId": "662f157c-357b-47e8-90f5-e184c25bfdea"
      },
      "execution_count": null,
      "outputs": [
        {
          "output_type": "stream",
          "name": "stdout",
          "text": [
            "False True False True False True\n"
          ]
        }
      ]
    },
    {
      "cell_type": "markdown",
      "source": [
        "논리 연산자"
      ],
      "metadata": {
        "id": "0zyDzel0pACH"
      }
    },
    {
      "cell_type": "code",
      "source": [
        "a = 99\n",
        "print((a>100) and (a<200))\n",
        "print((a>100) or (a<200))\n",
        "print(not(a==100))"
      ],
      "metadata": {
        "colab": {
          "base_uri": "https://localhost:8080/"
        },
        "id": "-Y32jXnnpDRq",
        "outputId": "7d6161de-78a0-4ce0-eec8-d9895348cf7f"
      },
      "execution_count": null,
      "outputs": [
        {
          "output_type": "stream",
          "name": "stdout",
          "text": [
            "False\n",
            "True\n",
            "True\n"
          ]
        }
      ]
    },
    {
      "cell_type": "code",
      "source": [
        "if(123):\n",
        "  print(\"참이면 보입니다.\")\n",
        "if(0): \n",
        "  pirnt(\"거짓이면 안 보입니다.\")"
      ],
      "metadata": {
        "colab": {
          "base_uri": "https://localhost:8080/"
        },
        "id": "P9C_nD6NpoWS",
        "outputId": "d9d5cade-3e45-498a-dc55-726f0028e534"
      },
      "execution_count": null,
      "outputs": [
        {
          "output_type": "stream",
          "name": "stdout",
          "text": [
            "참이면 보입니다.\n"
          ]
        }
      ]
    },
    {
      "cell_type": "markdown",
      "source": [
        "##### 퀴즈2 숫자 입력을 받아 동전으로 바꿔주는 프로그램( 500원, 100원, 50원, 10원) 나머지는 거스름 돈으로 출력\n"
      ],
      "metadata": {
        "id": "VEXYcnM1voxP"
      }
    },
    {
      "cell_type": "code",
      "source": [
        "# 변수\n",
        "bill, c500, c100, c50, c10 = 0, 0, 0, 0, 0\n",
        "\n",
        "bill = int(input( \"바꿀 금액을 입력하세요 : \"))\n",
        "\n",
        "c500 = bill // 500 #몫\n",
        "bill %= 500 # bill = bill % 500\n",
        "\n",
        "c100 = bill // 100\n",
        "bill %= 100\n",
        "\n",
        "c50 = bill // 50\n",
        "bill %= 50\n",
        "\n",
        "c10 = bill // 10\n",
        "bill %= 10\n",
        "\n",
        "c1 = bill // 1\n",
        "bill %= 1\n",
        "\n",
        "print(\"500원 동전 : %d개\" % c500)\n",
        "print(\"100원 동전: %d개\" % c100)\n",
        "print(\"50원 동전 : %d개\" % c50)\n",
        "print(\"10원 동전 : %d개\" % c10)\n",
        "print(\"잔돈 %d원\" % c1)"
      ],
      "metadata": {
        "colab": {
          "base_uri": "https://localhost:8080/"
        },
        "id": "ee2lgNsFwHkb",
        "outputId": "038a899c-6ca4-4a68-e052-b5dd3b5fd5fa"
      },
      "execution_count": null,
      "outputs": [
        {
          "output_type": "stream",
          "name": "stdout",
          "text": [
            "바꿀 금액을 입력하세요 : 2753\n",
            "500원 동전 : 5개\n",
            "100원 동전: 2개\n",
            "50원 동전 : 1개\n",
            "10원 동전 : 0개\n",
            "잔돈 3원\n"
          ]
        }
      ]
    },
    {
      "cell_type": "markdown",
      "source": [
        "## 조건문"
      ],
      "metadata": {
        "id": "84MDBFeQ1BYa"
      }
    },
    {
      "cell_type": "code",
      "source": [
        " a = 2000\n",
        " if(a<100):\n",
        "   print(\"100보다 작다\")\n",
        "else :\n",
        "   print(\"100보다 크다\")\n",
        "print(\"프로그램 끝\")"
      ],
      "metadata": {
        "colab": {
          "base_uri": "https://localhost:8080/"
        },
        "id": "NrPxoMQw1Gmn",
        "outputId": "53c09c90-6e3a-41b9-d346-bbac5318cb31"
      },
      "execution_count": null,
      "outputs": [
        {
          "output_type": "stream",
          "name": "stdout",
          "text": [
            "100보다 크다\n",
            "프로그램 끝\n"
          ]
        }
      ]
    },
    {
      "cell_type": "code",
      "source": [
        " # 홀짝 구분\n",
        " a = int(input(\"정수를 입력하세요 : \"))\n",
        " if(a % 2 == 0):\n",
        "   print(\"짝수\")\n",
        "else :\n",
        "    print(\"홀수\")"
      ],
      "metadata": {
        "colab": {
          "base_uri": "https://localhost:8080/"
        },
        "id": "Pi-c5wsB1vjZ",
        "outputId": "02c48235-7127-423d-aa1b-14f5eece337c"
      },
      "execution_count": null,
      "outputs": [
        {
          "output_type": "stream",
          "name": "stdout",
          "text": [
            "정수를 입력하세요 : 5\n",
            "홀수\n"
          ]
        }
      ]
    },
    {
      "cell_type": "code",
      "source": [
        "a = 120\n",
        "if(a > 50) :\n",
        "  if(a<100):\n",
        "    print(\"50<a<100\")\n",
        "  else:\n",
        "    print(\"a>100\")\n",
        "else:\n",
        "  print(\"a<50\")"
      ],
      "metadata": {
        "id": "YAcdjtXa3YCe",
        "colab": {
          "base_uri": "https://localhost:8080/"
        },
        "outputId": "d2e3fd55-6a62-4243-84b4-c2261c4367e5"
      },
      "execution_count": null,
      "outputs": [
        {
          "output_type": "stream",
          "name": "stdout",
          "text": [
            "a>100\n"
          ]
        }
      ]
    },
    {
      "cell_type": "code",
      "source": [
        "fruit = ['사과', '배', '감', '포도']\n",
        "fruit.append('딸기')\n",
        "if '딸기' in fruit:\n",
        "  print(\"딸기가 있습니다.\")\n",
        "print(fruit)"
      ],
      "metadata": {
        "colab": {
          "base_uri": "https://localhost:8080/"
        },
        "id": "gUZ8IgU_4WHF",
        "outputId": "1f889f86-2878-4fce-c677-45718e969905"
      },
      "execution_count": null,
      "outputs": [
        {
          "output_type": "stream",
          "name": "stdout",
          "text": [
            "딸기가 있습니다.\n",
            "['사과', '배', '감', '포도', '딸기']\n"
          ]
        }
      ]
    },
    {
      "cell_type": "code",
      "source": [
        "import random\n",
        "\n",
        "number = []\n",
        "for nim in range(0,6) :\n",
        "  number.append(random.randrange(1,46))\n",
        "print(\"생성된 리스트\", number)"
      ],
      "metadata": {
        "colab": {
          "base_uri": "https://localhost:8080/"
        },
        "id": "JD3WV_og9CvV",
        "outputId": "6b6aabc6-960b-4eb5-b76b-6abb9aad5a98"
      },
      "execution_count": null,
      "outputs": [
        {
          "output_type": "stream",
          "name": "stdout",
          "text": [
            "생성된 리스트 [43, 7, 32, 20, 38, 23]\n"
          ]
        }
      ]
    },
    {
      "cell_type": "markdown",
      "source": [
        "## 반복문"
      ],
      "metadata": {
        "id": "40UBNiII-fui"
      }
    },
    {
      "cell_type": "code",
      "source": [
        "for i in range(0,3,1): # 시작값, 끝값+1\n",
        "  print(\"%d 안녕하세요~\" % i) # 반복 내용\n",
        "  #print(i)\n",
        "print(\"반갑습니다.\") "
      ],
      "metadata": {
        "colab": {
          "base_uri": "https://localhost:8080/"
        },
        "id": "pNjRlTsb-hIa",
        "outputId": "ed58cb4e-8493-4049-9d53-19fb4bc90e16"
      },
      "execution_count": null,
      "outputs": [
        {
          "output_type": "stream",
          "name": "stdout",
          "text": [
            "0 안녕하세요~\n",
            "1 안녕하세요~\n",
            "2 안녕하세요~\n",
            "반갑습니다.\n"
          ]
        }
      ]
    },
    {
      "cell_type": "code",
      "source": [
        "for i in range(1,9,1):\n",
        "  print(\"%d\" % i, end =\" \")\n",
        "print(\"\\n\")\n",
        "for i in range(1,9,1):\n",
        "  print(\"%d \" % i, end =\"\")"
      ],
      "metadata": {
        "colab": {
          "base_uri": "https://localhost:8080/"
        },
        "id": "-PVjtzGo_v3g",
        "outputId": "c5b84f87-7272-4eec-f1dc-d5a76be15949"
      },
      "execution_count": null,
      "outputs": [
        {
          "output_type": "stream",
          "name": "stdout",
          "text": [
            "1 2 3 4 5 6 7 8 \n",
            "\n",
            "1 2 3 4 5 6 7 8 "
          ]
        }
      ]
    },
    {
      "cell_type": "code",
      "source": [
        "sum = 0 \n",
        "for i in range(1,11,1):\n",
        "  sum = sum + i\n",
        "print(\"1~10까지 합계 : %d\" % sum)"
      ],
      "metadata": {
        "colab": {
          "base_uri": "https://localhost:8080/"
        },
        "id": "LxHm6YgoAukt",
        "outputId": "70f75ebb-0822-4bad-dfba-5acb250ace37"
      },
      "execution_count": null,
      "outputs": [
        {
          "output_type": "stream",
          "name": "stdout",
          "text": [
            "1~10까지 합계 : 55\n"
          ]
        }
      ]
    },
    {
      "cell_type": "markdown",
      "source": [
        "#### Quiz3 : 숫자 입력을 받아 1부터 입력된 숫자까지의 합을 출력하시오."
      ],
      "metadata": {
        "id": "DEPmTEbeB3SZ"
      }
    },
    {
      "cell_type": "code",
      "source": [
        "num = int(input(\"숫자를 입력하세요: \"))\n",
        "\n",
        "sum = 0\n",
        "for i in range(1, num+1, 1):\n",
        "    sum = sum + i\n",
        "print(\"1~n까지 합계 : %d\" % sum)\n"
      ],
      "metadata": {
        "colab": {
          "base_uri": "https://localhost:8080/"
        },
        "id": "laNZEAg0CDMd",
        "outputId": "ee959ad7-795a-47e7-c177-35a5be78f199"
      },
      "execution_count": null,
      "outputs": [
        {
          "output_type": "stream",
          "name": "stdout",
          "text": [
            "숫자를 입력하세요: 10000\n",
            "1~n까지 합계 : 50005000\n"
          ]
        }
      ]
    },
    {
      "cell_type": "markdown",
      "source": [
        "#### 중첩 for문"
      ],
      "metadata": {
        "id": "tUv-ivWDDmBY"
      }
    },
    {
      "cell_type": "code",
      "source": [
        "i , j , k=0, 0, 0\n",
        "for i in range(1,10, 1):\n",
        "  for j in range(1, 10, 1):\n",
        "   print(\"%d x %d = %2d\" % (i,j,i*j)) \n",
        "print(\"\")"
      ],
      "metadata": {
        "id": "Y3RPZUoVKAUT",
        "colab": {
          "base_uri": "https://localhost:8080/"
        },
        "outputId": "4f86e39b-13f8-4d63-f073-4938f49abd96"
      },
      "execution_count": null,
      "outputs": [
        {
          "output_type": "stream",
          "name": "stdout",
          "text": [
            "1 x 1 =  1\n",
            "1 x 2 =  2\n",
            "1 x 3 =  3\n",
            "1 x 4 =  4\n",
            "1 x 5 =  5\n",
            "1 x 6 =  6\n",
            "1 x 7 =  7\n",
            "1 x 8 =  8\n",
            "1 x 9 =  9\n",
            "2 x 1 =  2\n",
            "2 x 2 =  4\n",
            "2 x 3 =  6\n",
            "2 x 4 =  8\n",
            "2 x 5 = 10\n",
            "2 x 6 = 12\n",
            "2 x 7 = 14\n",
            "2 x 8 = 16\n",
            "2 x 9 = 18\n",
            "3 x 1 =  3\n",
            "3 x 2 =  6\n",
            "3 x 3 =  9\n",
            "3 x 4 = 12\n",
            "3 x 5 = 15\n",
            "3 x 6 = 18\n",
            "3 x 7 = 21\n",
            "3 x 8 = 24\n",
            "3 x 9 = 27\n",
            "4 x 1 =  4\n",
            "4 x 2 =  8\n",
            "4 x 3 = 12\n",
            "4 x 4 = 16\n",
            "4 x 5 = 20\n",
            "4 x 6 = 24\n",
            "4 x 7 = 28\n",
            "4 x 8 = 32\n",
            "4 x 9 = 36\n",
            "5 x 1 =  5\n",
            "5 x 2 = 10\n",
            "5 x 3 = 15\n",
            "5 x 4 = 20\n",
            "5 x 5 = 25\n",
            "5 x 6 = 30\n",
            "5 x 7 = 35\n",
            "5 x 8 = 40\n",
            "5 x 9 = 45\n",
            "6 x 1 =  6\n",
            "6 x 2 = 12\n",
            "6 x 3 = 18\n",
            "6 x 4 = 24\n",
            "6 x 5 = 30\n",
            "6 x 6 = 36\n",
            "6 x 7 = 42\n",
            "6 x 8 = 48\n",
            "6 x 9 = 54\n",
            "7 x 1 =  7\n",
            "7 x 2 = 14\n",
            "7 x 3 = 21\n",
            "7 x 4 = 28\n",
            "7 x 5 = 35\n",
            "7 x 6 = 42\n",
            "7 x 7 = 49\n",
            "7 x 8 = 56\n",
            "7 x 9 = 63\n",
            "8 x 1 =  8\n",
            "8 x 2 = 16\n",
            "8 x 3 = 24\n",
            "8 x 4 = 32\n",
            "8 x 5 = 40\n",
            "8 x 6 = 48\n",
            "8 x 7 = 56\n",
            "8 x 8 = 64\n",
            "8 x 9 = 72\n",
            "9 x 1 =  9\n",
            "9 x 2 = 18\n",
            "9 x 3 = 27\n",
            "9 x 4 = 36\n",
            "9 x 5 = 45\n",
            "9 x 6 = 54\n",
            "9 x 7 = 63\n",
            "9 x 8 = 72\n",
            "9 x 9 = 81\n",
            "\n"
          ]
        }
      ]
    },
    {
      "cell_type": "code",
      "source": [
        "m,n = 0,0\n",
        "for m in range(1,10,1):\n",
        "  for n in range(2, 6, 1):\n",
        "    print(\"%d x %d = %2d \\t\" % (n,m,m*n), end = '')\n",
        "  print(\"\")\n",
        "print(\"\\n\")\n",
        "k,j = 0, 0\n",
        "for k in range(1,10,1):\n",
        "  for j in range(6, 10, 1):\n",
        "    print(\"%d x %d = %2d \\t\" % (j,k,k*j), end = '')\n",
        "  print(\"\")\n",
        "\n",
        " "
      ],
      "metadata": {
        "colab": {
          "base_uri": "https://localhost:8080/"
        },
        "id": "U5FA8AEhKAgC",
        "outputId": "7b6fde03-6684-4c54-f283-ee793bbd07f5"
      },
      "execution_count": null,
      "outputs": [
        {
          "output_type": "stream",
          "name": "stdout",
          "text": [
            "2 x 1 =  2 \t3 x 1 =  3 \t4 x 1 =  4 \t5 x 1 =  5 \t\n",
            "2 x 2 =  4 \t3 x 2 =  6 \t4 x 2 =  8 \t5 x 2 = 10 \t\n",
            "2 x 3 =  6 \t3 x 3 =  9 \t4 x 3 = 12 \t5 x 3 = 15 \t\n",
            "2 x 4 =  8 \t3 x 4 = 12 \t4 x 4 = 16 \t5 x 4 = 20 \t\n",
            "2 x 5 = 10 \t3 x 5 = 15 \t4 x 5 = 20 \t5 x 5 = 25 \t\n",
            "2 x 6 = 12 \t3 x 6 = 18 \t4 x 6 = 24 \t5 x 6 = 30 \t\n",
            "2 x 7 = 14 \t3 x 7 = 21 \t4 x 7 = 28 \t5 x 7 = 35 \t\n",
            "2 x 8 = 16 \t3 x 8 = 24 \t4 x 8 = 32 \t5 x 8 = 40 \t\n",
            "2 x 9 = 18 \t3 x 9 = 27 \t4 x 9 = 36 \t5 x 9 = 45 \t\n",
            "\n",
            "\n",
            "6 x 1 =  6 \t7 x 1 =  7 \t8 x 1 =  8 \t9 x 1 =  9 \t\n",
            "6 x 2 = 12 \t7 x 2 = 14 \t8 x 2 = 16 \t9 x 2 = 18 \t\n",
            "6 x 3 = 18 \t7 x 3 = 21 \t8 x 3 = 24 \t9 x 3 = 27 \t\n",
            "6 x 4 = 24 \t7 x 4 = 28 \t8 x 4 = 32 \t9 x 4 = 36 \t\n",
            "6 x 5 = 30 \t7 x 5 = 35 \t8 x 5 = 40 \t9 x 5 = 45 \t\n",
            "6 x 6 = 36 \t7 x 6 = 42 \t8 x 6 = 48 \t9 x 6 = 54 \t\n",
            "6 x 7 = 42 \t7 x 7 = 49 \t8 x 7 = 56 \t9 x 7 = 63 \t\n",
            "6 x 8 = 48 \t7 x 8 = 56 \t8 x 8 = 64 \t9 x 8 = 72 \t\n",
            "6 x 9 = 54 \t7 x 9 = 63 \t8 x 9 = 72 \t9 x 9 = 81 \t\n"
          ]
        }
      ]
    }
  ]
}